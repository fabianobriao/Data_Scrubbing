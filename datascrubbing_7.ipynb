{
  "nbformat": 4,
  "nbformat_minor": 0,
  "metadata": {
    "colab": {
      "name": "datascrubbing_7.ipynb",
      "provenance": [],
      "collapsed_sections": [],
      "authorship_tag": "ABX9TyNG0d7lZVABKptT1FRTTi6O",
      "include_colab_link": true
    },
    "kernelspec": {
      "name": "python3",
      "display_name": "Python 3"
    },
    "language_info": {
      "name": "python"
    }
  },
  "cells": [
    {
      "cell_type": "markdown",
      "metadata": {
        "id": "view-in-github",
        "colab_type": "text"
      },
      "source": [
        "<a href=\"https://colab.research.google.com/github/fabianobriao/Data_Scrubbing/blob/main/datascrubbing_7.ipynb\" target=\"_parent\"><img src=\"https://colab.research.google.com/assets/colab-badge.svg\" alt=\"Open In Colab\"/></a>"
      ]
    },
    {
      "cell_type": "code",
      "metadata": {
        "id": "_CoS4jFdsu8H"
      },
      "source": [
        "#https://ichi.pro/pt/limpeza-de-dados-com-python-e-pandas-deteccao-de-valores-ausentes-68841593698187"
      ],
      "execution_count": null,
      "outputs": []
    }
  ]
}
'''{
    "Parameters": {
        "VPCID": "vpc-0d246fed2349d537b",
        "PrivateSubnetOne": "subnet-0e840781be4bb1695",
        "PrivateSubnetTwo": "subnet-0c45015caf6020cae",
        "ExposedPortInDockerfile": "5100",'''

